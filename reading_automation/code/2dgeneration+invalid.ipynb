{
  "nbformat": 4,
  "nbformat_minor": 0,
  "metadata": {
    "colab": {
      "provenance": []
    },
    "kernelspec": {
      "name": "python3",
      "display_name": "Python 3"
    },
    "language_info": {
      "name": "python"
    }
  },
  "cells": [
    {
      "cell_type": "code",
      "source": [
        "from rdkit import Chem\n",
        "from rdkit.Chem import Draw\n",
        "from rdkit.Chem import rdDepictor\n",
        "from rdkit.Chem.Draw import rdMolDraw2D\n",
        "from IPython.display import display, Image\n",
        "\n",
        "def generate_2d_structure(smiles):\n",
        "    molecule = Chem.MolFromSmiles(smiles)\n",
        "    if not molecule:\n",
        "        raise ValueError(\"Invalid SMILES string provided.\")\n",
        "\n",
        "    rdDepictor.Compute2DCoords(molecule)\n",
        "    drawer = rdMolDraw2D.MolDraw2DCairo(300, 300)\n",
        "    rdMolDraw2D.PrepareAndDrawMolecule(drawer, molecule)\n",
        "    drawer.FinishDrawing()\n",
        "\n",
        "    image = drawer.GetDrawingText()\n",
        "    return image\n",
        "\n",
        "smiles = \"COC(C)C(Cl)OC\"  # Example SMILES string\n",
        "try:\n",
        "    image = generate_2d_structure(smiles)\n",
        "    display(Image(data=image))  # Display the image inline\n",
        "except ValueError as e:\n",
        "    print(str(e))\n"
      ],
      "metadata": {
        "id": "4AoJ5AICEcej",
        "outputId": "f65aa704-f31a-4849-eed5-ad0389f092cc",
        "colab": {
          "base_uri": "https://localhost:8080/",
          "height": 317
        }
      },
      "execution_count": 11,
      "outputs": [
        {
          "output_type": "display_data",
          "data": {
            "image/png": "[encoded data removed]",
            "text/plain": [
              "<IPython.core.display.Image object>"
            ]
          },
          "metadata": {}
        }
      ]
    },
    {
      "cell_type": "markdown",
      "source": [],
      "metadata": {
        "id": "_lg0GJ-KGQ0M"
      }
    },
    {
      "cell_type": "code",
      "source": [],
      "metadata": {
        "id": "m2ddKzDWEc7F"
      },
      "execution_count": null,
      "outputs": []
    }
  ]
}